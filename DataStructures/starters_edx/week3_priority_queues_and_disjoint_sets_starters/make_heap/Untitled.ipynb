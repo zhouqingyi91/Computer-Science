{
 "cells": [
  {
   "cell_type": "code",
   "execution_count": 1,
   "metadata": {},
   "outputs": [],
   "source": [
    "# python3\n",
    "\n",
    "\n",
    "class HeapBuilder:\n",
    "    def __init__(self):\n",
    "        self._swaps = []\n",
    "        self._data = []\n",
    "\n",
    "    def ReadData(self):\n",
    "        n = int(input())\n",
    "        self._data = [int(s) for s in input().split()]\n",
    "        assert n == len(self._data)\n",
    "\n",
    "    def WriteResponse(self):\n",
    "        print(len(self._swaps))\n",
    "        for swap in self._swaps:\n",
    "            print(swap[0], swap[1])\n",
    "\n",
    "    def GenerateSwaps(self):\n",
    "        # The following naive implementation just sorts\n",
    "        # the given sequence using selection sort algorithm\n",
    "        # and saves the resulting sequence of swaps.\n",
    "        # This turns the given array into a heap,\n",
    "        # but in the worst case gives a quadratic number of swaps.\n",
    "        #\n",
    "        # TODO: replace by a more efficient implementation\n",
    "        for i in range(len(self._data)):\n",
    "            for j in range(i + 1, len(self._data)):\n",
    "                if self._data[i] > self._data[j]:\n",
    "                    self._swaps.append((i, j))\n",
    "                    self._data[i], self._data[j] = self._data[j], self._data[i]\n",
    "\n",
    "    def Solve(self):\n",
    "        self.ReadData()\n",
    "        self.GenerateSwaps()\n",
    "        self.WriteResponse()\n",
    "\n",
    "\n",
    "if __name__ == '__main__':\n",
    "    heap_builder = HeapBuilder()\n",
    "    heap_builder.Solve()\n"
   ]
  },
  {
   "cell_type": "code",
   "execution_count": 3,
   "metadata": {},
   "outputs": [
    {
     "name": "stdout",
     "output_type": "stream",
     "text": [
      "3\n",
      "5 1 9\n",
      "1\n",
      "0 1\n"
     ]
    }
   ],
   "source": [
    "if __name__ == '__main__':\n",
    "    heap_builder = HeapBuilder()\n",
    "    heap_builder.Solve()"
   ]
  }
 ],
 "metadata": {
  "kernelspec": {
   "display_name": "Python 3",
   "language": "python",
   "name": "python3"
  },
  "language_info": {
   "codemirror_mode": {
    "name": "ipython",
    "version": 3
   },
   "file_extension": ".py",
   "mimetype": "text/x-python",
   "name": "python",
   "nbconvert_exporter": "python",
   "pygments_lexer": "ipython3",
   "version": "3.6.5"
  }
 },
 "nbformat": 4,
 "nbformat_minor": 2
}
