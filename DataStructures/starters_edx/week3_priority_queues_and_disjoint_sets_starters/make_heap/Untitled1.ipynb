{
 "cells": [
  {
   "cell_type": "code",
   "execution_count": 24,
   "metadata": {},
   "outputs": [],
   "source": [
    "# python3\n",
    "class HeapBuilder:\n",
    "    def __init__(self):\n",
    "        self._swaps = []\n",
    "        self._data = []\n",
    "        self.size = 0\n",
    "\n",
    "    def ReadData(self):\n",
    "        n = int(input())\n",
    "        self._data = [int(s) for s in input().split()]\n",
    "        assert n == len(self._data)\n",
    "        self.size = n - 1\n",
    "\n",
    "    def WriteResponse(self):\n",
    "        print(len(self._swaps))\n",
    "        for swap in self._swaps:\n",
    "            print(swap[0], swap[1])\n",
    "\n",
    "    def build_heap(self):\n",
    "        for i in range(self.size - 1 // 2, -1, -1):\n",
    "            self.siftdown(i)\n",
    "        print('heap', self._data)\n",
    "    \n",
    "    def heap_sort(self):\n",
    "        for i in range(self.size):\n",
    "            self._data[0], self._data[self.size] = self._data[self.size], self._data[0]\n",
    "            self.size -= 1\n",
    "            self.siftdown(0)\n",
    "        print('sorted', self._data)\n",
    "\n",
    "    def siftdown(self, i):\n",
    "        maxindex = i\n",
    "        l = self.leftchild(i)\n",
    "        if l <= self.size and self._data[l] < self._data[maxindex]:\n",
    "            maxindex = l\n",
    "        r = self.rightchild(i)\n",
    "        if r <= self.size and self._data[r] < self._data[maxindex]:\n",
    "            maxindex = r\n",
    "\n",
    "        if i != maxindex:\n",
    "            self._data[i], self._data[maxindex] = self._data[maxindex], self._data[i]\n",
    "            self._swaps.append((i, maxindex))\n",
    "            self.siftdown(maxindex)\n",
    "\n",
    "    def leftchild(self, i):\n",
    "        return 2 * i + 1\n",
    "\n",
    "    def rightchild(self, i):\n",
    "        return 2 * i + 2\n",
    "\n",
    "    def parent(self, i):\n",
    "        return (i - 1) // 2\n",
    "\n",
    "    def Solve(self):\n",
    "        self.ReadData()\n",
    "        self.build_heap()\n",
    "#         self.WriteResponse()\n",
    "        self.heap_sort()\n"
   ]
  },
  {
   "cell_type": "code",
   "execution_count": 23,
   "metadata": {},
   "outputs": [
    {
     "name": "stdout",
     "output_type": "stream",
     "text": [
      "7\n",
      "6 3 8 4 5 7 1\n",
      "heap [1, 3, 6, 4, 5, 7, 8]\n",
      "sorted [7, 8, 6, 5, 4, 3, 1]\n"
     ]
    }
   ],
   "source": [
    "if __name__ == '__main__':\n",
    "    heap_builder = HeapBuilder()\n",
    "    heap_builder.Solve()"
   ]
  }
 ],
 "metadata": {
  "kernelspec": {
   "display_name": "Python 3",
   "language": "python",
   "name": "python3"
  },
  "language_info": {
   "codemirror_mode": {
    "name": "ipython",
    "version": 3
   },
   "file_extension": ".py",
   "mimetype": "text/x-python",
   "name": "python",
   "nbconvert_exporter": "python",
   "pygments_lexer": "ipython3",
   "version": "3.6.5"
  }
 },
 "nbformat": 4,
 "nbformat_minor": 2
}
